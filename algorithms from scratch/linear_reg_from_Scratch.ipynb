{
 "cells": [
  {
   "cell_type": "code",
   "execution_count": 327,
   "metadata": {},
   "outputs": [
    {
     "data": {
      "text/plain": [
       "array([ 42.98733444, -13.00100873])"
      ]
     },
     "execution_count": 327,
     "metadata": {},
     "output_type": "execute_result"
    }
   ],
   "source": [
    "import random\n",
    "import warnings \n",
    "warnings.filterwarnings(\"ignore\")\n",
    "\n",
    "random.seed(100)\n",
    "#population vs traffic density fit \n",
    "#polutation as feature traffic density as target variable\n",
    "size = 200\n",
    "\n",
    "population =  [ 30*random.random() for i in range(0,size)]\n",
    "roads    =    [  round(100*random.random()) for i in range(0,size)]\n",
    "error    =    [   7*random.random() for i in range(0,size)]\n",
    "\n",
    "#roads is degree in percent how well roads are , \n",
    "#if proper then less traffic like big roads even though population is quite heavy\n",
    "\n",
    "traffic =     [(345+43*population[i]) - error[i] - 13*roads[i] for i in range(0,size) ]\n",
    "\n",
    "_population =   [[ population[i]] for i in range(0,size)]\n",
    "_roads =        [[ roads[i]] for i in range(0,size)]\n",
    "#_traffic    =   [[ traffic[i]]    for i in range(0,size)]\n",
    "\n",
    "#train data and test data \n",
    "\n",
    "split = int(0.75* size)\n",
    "\n",
    "_pop_train         =    _population[0:split]\n",
    "_traffic_train     =    traffic[0:split]\n",
    "_roads_train       =    _roads[0:split]\n",
    "\n",
    "_pop_test          =    _population[split:size]\n",
    "_traffic_test      =    traffic[split:size]\n",
    "_roads_test       =    _roads[split:size]\n",
    "\n",
    "\n",
    "\n",
    "#lets make features into a table format like csv\n",
    "\n",
    "#features = [ [_pop_train[i][0],_roads_train[i][0]] for i in range(0,split) ]\n",
    "#to compensate the a0 value lets take that feature as f0 and is always 1\n",
    "\n",
    "features = [ [_pop_train[i][0],_roads_train[i][0]] for i in range(0,split) ]\n",
    "#features\n",
    "\n",
    "clf = LinearRegression()\n",
    "clf.fit(features,_traffic_train)\n",
    "clf.coef_"
   ]
  },
  {
   "cell_type": "code",
   "execution_count": 110,
   "metadata": {},
   "outputs": [
    {
     "data": {
      "text/plain": [
       "39472.06794873182"
      ]
     },
     "execution_count": 110,
     "metadata": {},
     "output_type": "execute_result"
    }
   ],
   "source": [
    "sig_y = np.array(_traffic_train).sum()\n",
    "sig_y"
   ]
  },
  {
   "cell_type": "code",
   "execution_count": 112,
   "metadata": {},
   "outputs": [
    {
     "data": {
      "text/plain": [
       "2278.832190993045"
      ]
     },
     "execution_count": 112,
     "metadata": {},
     "output_type": "execute_result"
    }
   ],
   "source": [
    "sig_x = np.array(_pop_train).sum()\n",
    "sig_x"
   ]
  },
  {
   "cell_type": "code",
   "execution_count": 120,
   "metadata": {},
   "outputs": [],
   "source": [
    "M = np.array(_traffic_train)*np.array(_pop_train)"
   ]
  },
  {
   "cell_type": "code",
   "execution_count": 134,
   "metadata": {},
   "outputs": [],
   "source": [
    "sig_xy = [ (_pop_train[i][0])*(_traffic_train[i]) for i in range(0,split)]\n",
    "# we have taken _pop_train[i][0] becuase \n",
    "#it is a list of lists and we are multipying with a list of values\n",
    "#so sicne each list has only one lelemnt i used 0 index to extract that value\n",
    "sig_xy_sum = np.array(sig_xy).sum()"
   ]
  },
  {
   "cell_type": "code",
   "execution_count": 131,
   "metadata": {},
   "outputs": [
    {
     "data": {
      "text/plain": [
       "45329.23779509551"
      ]
     },
     "execution_count": 131,
     "metadata": {},
     "output_type": "execute_result"
    }
   ],
   "source": [
    "sig_x2 = (np.array(_pop_train)**2).sum()\n",
    "sig_x2"
   ]
  },
  {
   "cell_type": "code",
   "execution_count": 91,
   "metadata": {},
   "outputs": [
    {
     "data": {
      "image/png": "[encoded data removed]",
      "text/plain": [
       "<Figure size 432x288 with 1 Axes>"
      ]
     },
     "metadata": {
      "needs_background": "light"
     },
     "output_type": "display_data"
    }
   ],
   "source": [
    "import matplotlib.pyplot as plt\n",
    "\n",
    "plt.scatter(_pop_train,_traffic_train,color=\"b\",label=\"training set\")\n",
    "plt.scatter(_pop_test,_traffic_test,color=\"r\",label=\"test set\")\n",
    "plt.legend()\n",
    "plt.show()\n"
   ]
  },
  {
   "cell_type": "code",
   "execution_count": 138,
   "metadata": {},
   "outputs": [
    {
     "data": {
      "text/plain": [
       "208.33910401427056"
      ]
     },
     "execution_count": 138,
     "metadata": {},
     "output_type": "execute_result"
    }
   ],
   "source": [
    "# finding best line from scratch\n",
    "\n",
    "\"\"\"\n",
    "\n",
    "Let ypredict = ax+b =f(x)\n",
    "for i data points you have yi values corr for xi\n",
    "\n",
    "error say e\n",
    "\n",
    "e depends on a and b as e = y-ypredicted = y(Acutal)-f(x) =y-f(x)\n",
    "\n",
    "e2 =loos fucntion j(a,b) \n",
    "J(a,b) = sigma i ( yi-f(xi)^2)\n",
    "diff J(a,b) w.rt a and b and solve it\n",
    "we get\n",
    "slope\n",
    "a = n * sum(x)*sum(y)   -  sum(xy) / n*sum(x**2) - sum(x)**2\n",
    "n is number of data points\n",
    " \n",
    " \"\"\"\n",
    "\n",
    "\n",
    "#here n we have split number\n",
    "import numpy as np\n",
    "\n",
    "a_u = (split*sig_xy_sum) - (sig_x*sig_y)\n",
    "a_l = (split*sig_x2) - ( sig_x **2)\n",
    "slope = a_u/a_l\n",
    "\n",
    "\n",
    "#intercept\n",
    "\n",
    "\"\"\"\n",
    "sigma y = n*a0 + a1 * sig x\n",
    "\n",
    "a0 = intercept = sigma y - a1*sigx/n\n",
    "\n",
    "\"\"\"\n",
    "\n",
    "intercept = (sig_y - slope*sig_x) / split\n",
    "intercept"
   ]
  },
  {
   "cell_type": "code",
   "execution_count": 139,
   "metadata": {},
   "outputs": [
    {
     "data": {
      "text/plain": [
       "3.607638324175457"
      ]
     },
     "execution_count": 139,
     "metadata": {},
     "output_type": "execute_result"
    }
   ],
   "source": [
    "slope"
   ]
  },
  {
   "cell_type": "code",
   "execution_count": 103,
   "metadata": {},
   "outputs": [
    {
     "name": "stderr",
     "output_type": "stream",
     "text": [
      "C:\\Users\\mahidhai\\Anaconda3\\lib\\site-packages\\sklearn\\utils\\__init__.py:4: DeprecationWarning: Using or importing the ABCs from 'collections' instead of from 'collections.abc' is deprecated, and in 3.8 it will stop working\n",
      "  from collections import Sequence\n"
     ]
    },
    {
     "data": {
      "text/plain": [
       "array([3.60763832])"
      ]
     },
     "execution_count": 103,
     "metadata": {},
     "output_type": "execute_result"
    }
   ],
   "source": [
    "#lets verify with sklearn\n",
    "\n",
    "from sklearn.linear_model import LinearRegression\n",
    "clf = LinearRegression()\n",
    "clf.fit(_pop_train,_traffic_train)\n",
    "clf.coef_"
   ]
  },
  {
   "cell_type": "code",
   "execution_count": 140,
   "metadata": {},
   "outputs": [
    {
     "data": {
      "text/plain": [
       "208.33910401427056"
      ]
     },
     "execution_count": 140,
     "metadata": {},
     "output_type": "execute_result"
    }
   ],
   "source": [
    "clf.intercept_\n",
    "\n",
    "#this technique is known as \n",
    "\n",
    "#  ORDINARY LEAST SQUARES \n",
    "\n",
    "#OLS ALGORITHM FOR LINEAR REGRESSION\n"
   ]
  },
  {
   "cell_type": "code",
   "execution_count": 127,
   "metadata": {},
   "outputs": [
    {
     "data": {
      "text/plain": [
       "[1, 4, 9]"
      ]
     },
     "execution_count": 127,
     "metadata": {},
     "output_type": "execute_result"
    }
   ],
   "source": [
    "l= [1,2,3]\n",
    "l2 = [1,2,3]\n",
    "l3 = [ l[i]*l2[i] for i in range(0,3)]\n",
    "l3"
   ]
  },
  {
   "cell_type": "code",
   "execution_count": 326,
   "metadata": {},
   "outputs": [
    {
     "data": {
      "text/plain": [
       "array([ 42.98733444, -13.00100873])"
      ]
     },
     "execution_count": 326,
     "metadata": {},
     "output_type": "execute_result"
    }
   ],
   "source": [
    "clf = LinearRegression()\n",
    "clf.fit(features,_traffic_train)\n",
    "clf.coef_"
   ]
  },
  {
   "cell_type": "code",
   "execution_count": 325,
   "metadata": {},
   "outputs": [
    {
     "data": {
      "text/plain": [
       "array([[ 53.43337086],\n",
       "       [-10.33286185]])"
      ]
     },
     "execution_count": 325,
     "metadata": {},
     "output_type": "execute_result"
    }
   ],
   "source": [
    "# Multilinear regression\n",
    "# solu is inv(xt.x) . x. y\n",
    "\n",
    "\n",
    "#constructing X\n",
    "\n",
    "train = [ [_traffic_train[i]] for i in range(0,split) ]\n",
    "X = np.array(features)\n",
    "y = np.array(train)\n",
    "#solving\n",
    "t = X.T\n",
    "i1 = t.dot(X)\n",
    "i2= linalg.inv(i1)\n",
    "\n",
    "i3= t.dot(y)\n",
    "solution = i2.dot(i3)\n",
    "solution"
   ]
  },
  {
   "cell_type": "code",
   "execution_count": null,
   "metadata": {},
   "outputs": [],
   "source": [
    "# now\n",
    "\n",
    "#this method assumes that error is small , but once if error is high enough\n",
    "#our sklearn yet dispayds correct anwer however the \n",
    "#values of above method will change \n",
    "\n",
    "#Practically thinking if we add intercept , only the values of y would shift\n",
    "#apparently the error would increase \n",
    "#this results in drastic change in the values of coefficeints\n",
    "\n",
    "#sklearn implements other optimization techniques to make sure it will form best fit\n",
    "\n"
   ]
  },
  {
   "cell_type": "code",
   "execution_count": null,
   "metadata": {},
   "outputs": [],
   "source": [
    "\n",
    "#  METHOD TWO \n",
    "\n",
    "#this may not work and not the coorect approach\n",
    "#we are deleaing with vectors and the features are vectors which span eitre space\n",
    "\n",
    "\n",
    "# for n features \n",
    "\n",
    "#you will have n+1 euqations as \n",
    "# y = a0 + a1x1 + a2x2 + ......anxn \n",
    "#x1 ,x2 ..........are features n features and constant intercept a0\n",
    "\n",
    "\n",
    "#solving matrix\n",
    "\n",
    "\n",
    "\"\"\"\n",
    "\n",
    "\n",
    "Looks like\n",
    "\n",
    "\n",
    "\n",
    "M(     n , s(x1) ,s(x2) , s(x3) ,.......,s(xn) \n",
    "\n",
    "    s(x1), s(x1*x1),s(x1*x2), s(x1*x3).............\n",
    "    s(x2), s(x2*x1),s(x2*x2) ,s(x2*x3)...........\n",
    "    \n",
    "    .\n",
    "    .\n",
    "    .\n",
    "    .\n",
    "    .............................................\n",
    "    .............\n",
    "    .\n",
    "    .                          ....................\n",
    "    \n",
    "    s(xn) , s(xn*x1), s(xn*x2) , ................s(xn*xn)\n",
    "\n",
    "\n",
    "\n",
    "\n",
    "\n",
    ")\n",
    "\n",
    "\n",
    "\n",
    "\"\"\""
   ]
  },
  {
   "cell_type": "code",
   "execution_count": 311,
   "metadata": {},
   "outputs": [],
   "source": [
    "data=features\n",
    "f = 2\n",
    "M =  [  ]\n",
    "\n",
    "for i in range(0,f+1):\n",
    "    R=[]\n",
    "    for j in range(0,f+1):\n",
    "        \n",
    "        x=0\n",
    "        for n in range(0,split):\n",
    "            if i==0 and j==0:\n",
    "                x= split\n",
    "                break\n",
    "            elif i==0 and j !=0:\n",
    "                x= x + data[n][j-1]\n",
    "            elif i !=0 and j==0:\n",
    "                x= x + data[n][i-1]\n",
    "            else:\n",
    "                x= x + data[n][i-1]*data[n][j-1]\n",
    "            \n",
    "        R.append(x)\n",
    "        R\n",
    "     \n",
    "    M.append(R)\n",
    "        \n",
    "\n"
   ]
  },
  {
   "cell_type": "code",
   "execution_count": 312,
   "metadata": {},
   "outputs": [
    {
     "data": {
      "text/plain": [
       "matrix([[1.50000000e+02, 2.27883219e+03, 7.60200000e+03],\n",
       "        [2.27883219e+03, 4.53292378e+04, 1.14310097e+05],\n",
       "        [7.60200000e+03, 1.14310097e+05, 5.25814000e+05]])"
      ]
     },
     "execution_count": 312,
     "metadata": {},
     "output_type": "execute_result"
    }
   ],
   "source": [
    "A_solve = np.matrix(M)\n",
    "A_solve"
   ]
  },
  {
   "cell_type": "code",
   "execution_count": 313,
   "metadata": {},
   "outputs": [],
   "source": [
    "sig_y=np.array(_traffic_train).sum()\n",
    "B =[]\n",
    "for i in range(0,f+1):\n",
    "    b=[sig_y]\n",
    "    B.append(b)\n",
    "\n"
   ]
  },
  {
   "cell_type": "code",
   "execution_count": 314,
   "metadata": {},
   "outputs": [
    {
     "data": {
      "text/plain": [
       "matrix([[-1378.93423456],\n",
       "        [-1378.93423456],\n",
       "        [-1378.93423456]])"
      ]
     },
     "execution_count": 314,
     "metadata": {},
     "output_type": "execute_result"
    }
   ],
   "source": [
    "B_matrix = np.matrix(B)\n",
    "B_matrix\n"
   ]
  },
  {
   "cell_type": "code",
   "execution_count": 315,
   "metadata": {},
   "outputs": [
    {
     "data": {
      "text/plain": [
       "matrix([[-63.30468196],\n",
       "        [  1.88299934],\n",
       "        [  0.5032529 ]])"
      ]
     },
     "execution_count": 315,
     "metadata": {},
     "output_type": "execute_result"
    }
   ],
   "source": [
    "#solving for coefficients\n",
    "import numpy.linalg as linalg\n",
    "\n",
    "a = linalg.inv(A_solve).dot(B_matrix)\n",
    "a\n"
   ]
  }
 ],
 "metadata": {
  "kernelspec": {
   "display_name": "Python 3",
   "language": "python",
   "name": "python3"
  },
  "language_info": {
   "codemirror_mode": {
    "name": "ipython",
    "version": 3
   },
   "file_extension": ".py",
   "mimetype": "text/x-python",
   "name": "python",
   "nbconvert_exporter": "python",
   "pygments_lexer": "ipython3",
   "version": "3.7.0"
  }
 },
 "nbformat": 4,
 "nbformat_minor": 2
}
