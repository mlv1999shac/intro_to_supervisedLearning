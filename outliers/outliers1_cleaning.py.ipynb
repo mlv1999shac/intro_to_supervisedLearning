{
 "cells": [
  {
   "cell_type": "code",
   "execution_count": 190,
   "metadata": {},
   "outputs": [],
   "source": [
    "#!/usr/bin/python\n",
    "\n",
    "import random\n",
    "import numpy\n",
    "import matplotlib.pyplot as plt\n",
    "import pickle\n",
    "\n",
    "from outlier_cleaner import outlierCleaner\n",
    "\n",
    "\n",
    "### load up some practice data with outliers in it\n",
    "ages = pickle.load( open(\"practice_outliers_ages.pkl\", \"rb\") )\n",
    "net_worths = pickle.load( open(\"practice_outliers_net_worths.pkl\", \"rb\") )\n"
   ]
  },
  {
   "cell_type": "code",
   "execution_count": 191,
   "metadata": {},
   "outputs": [
    {
     "data": {
      "text/plain": [
       "100"
      ]
     },
     "execution_count": 191,
     "metadata": {},
     "output_type": "execute_result"
    }
   ],
   "source": [
    "len(net_worths)"
   ]
  },
  {
   "cell_type": "code",
   "execution_count": 192,
   "metadata": {},
   "outputs": [
    {
     "data": {
      "image/png": "[encoded data removed]",
      "text/plain": [
       "<Figure size 432x288 with 1 Axes>"
      ]
     },
     "metadata": {
      "needs_background": "light"
     },
     "output_type": "display_data"
    }
   ],
   "source": [
    "plt.scatter(ages,net_worths)\n",
    "plt.xlabel(\"ages\")\n",
    "plt.ylabel(\"net worths\")\n",
    "#plt.legend()\n",
    "plt.show()"
   ]
  },
  {
   "cell_type": "code",
   "execution_count": 193,
   "metadata": {},
   "outputs": [
    {
     "data": {
      "text/plain": [
       "[[49],\n",
       " [21],\n",
       " [32],\n",
       " [30],\n",
       " [53],\n",
       " [51],\n",
       " [61],\n",
       " [23],\n",
       " [39],\n",
       " [21],\n",
       " [30],\n",
       " [43],\n",
       " [21],\n",
       " [29],\n",
       " [49],\n",
       " [45],\n",
       " [30],\n",
       " [47],\n",
       " [57],\n",
       " [20],\n",
       " [57],\n",
       " [52],\n",
       " [35],\n",
       " [27],\n",
       " [64],\n",
       " [35],\n",
       " [24],\n",
       " [24],\n",
       " [58],\n",
       " [47],\n",
       " [57],\n",
       " [53],\n",
       " [44],\n",
       " [64],\n",
       " [37],\n",
       " [45],\n",
       " [58],\n",
       " [48],\n",
       " [59],\n",
       " [46],\n",
       " [52],\n",
       " [22],\n",
       " [30],\n",
       " [33],\n",
       " [23],\n",
       " [30],\n",
       " [24],\n",
       " [32],\n",
       " [49],\n",
       " [36],\n",
       " [37],\n",
       " [29],\n",
       " [32],\n",
       " [63],\n",
       " [49],\n",
       " [48],\n",
       " [27],\n",
       " [53],\n",
       " [27],\n",
       " [37],\n",
       " [65],\n",
       " [49],\n",
       " [45],\n",
       " [51],\n",
       " [58],\n",
       " [55],\n",
       " [30],\n",
       " [21],\n",
       " [34],\n",
       " [32],\n",
       " [29],\n",
       " [63],\n",
       " [60],\n",
       " [34],\n",
       " [50],\n",
       " [38],\n",
       " [62],\n",
       " [41],\n",
       " [32],\n",
       " [31],\n",
       " [45],\n",
       " [32],\n",
       " [46],\n",
       " [61],\n",
       " [38],\n",
       " [30],\n",
       " [65],\n",
       " [43],\n",
       " [24],\n",
       " [22],\n",
       " [25],\n",
       " [48],\n",
       " [56],\n",
       " [39],\n",
       " [22],\n",
       " [37],\n",
       " [65],\n",
       " [44],\n",
       " [64],\n",
       " [59]]"
      ]
     },
     "execution_count": 193,
     "metadata": {},
     "output_type": "execute_result"
    }
   ],
   "source": [
    "ages_train = [ [ages[i]] for i in range(0, len(ages))]\n",
    "ages_train"
   ]
  },
  {
   "cell_type": "code",
   "execution_count": 199,
   "metadata": {},
   "outputs": [],
   "source": [
    "from sklearn.linear_model import LinearRegression\n",
    "clf=LinearRegression()\n",
    "clf.fit(ages_train,net_worths)\n",
    "pred = clf.predict(ages_train)"
   ]
  },
  {
   "cell_type": "code",
   "execution_count": 201,
   "metadata": {},
   "outputs": [
    {
     "data": {
      "text/plain": [
       "array([5.23059872])"
      ]
     },
     "execution_count": 201,
     "metadata": {},
     "output_type": "execute_result"
    }
   ],
   "source": [
    "clf.coef_"
   ]
  },
  {
   "cell_type": "code",
   "execution_count": 202,
   "metadata": {},
   "outputs": [
    {
     "data": {
      "text/plain": [
       "array([ 3.90674035e+01, -2.17540144e+00,  2.47570694e+01,  4.02250932e+01,\n",
       "        2.85276580e+01,  2.64891838e+01,  7.29501921e+01,  1.79773817e+01,\n",
       "        9.54961989e+00,  1.14410855e+01,  4.96142240e-01,  1.37021176e+01,\n",
       "        5.42913002e+00, -2.95205101e+01, -5.36523626e+00,  1.38097647e+01,\n",
       "       -1.04921263e+01,  3.33792645e+01,  1.91278491e+01, -2.86755907e+01,\n",
       "        6.66013060e+01,  2.76757982e+01,  1.62120666e+01, -2.17886715e+01,\n",
       "        3.35364851e+01,  1.70799543e+01, -1.93717831e+01,  1.11620488e+01,\n",
       "        2.62949581e+01,  2.12604428e+01,  2.52541984e+01,  7.02562892e+01,\n",
       "        2.37661695e+01,  2.32699210e+01,  3.33512033e+01,  6.38642279e-01,\n",
       "        4.24850038e+01, -1.10796834e+01,  1.27634122e+01,  3.00121413e+01,\n",
       "        4.69606558e+01,  5.03665149e+00,  7.45153045e+00,  6.80062602e+00,\n",
       "       -2.69417527e+01, -4.63238807e+00, -5.56468700e+00,  3.29457432e+01,\n",
       "        3.60054862e+01, -1.93798993e+01,  2.33819844e+01,  1.04344921e+00,\n",
       "       -1.73514135e+00,  5.56382641e+01,  4.97531108e+01,  4.67393215e+01,\n",
       "       -1.00780582e+01,  2.70264780e+01,  1.33315609e+01,  3.64112076e+01,\n",
       "        3.58600561e+01,  2.54199409e+01,  2.92881580e+00,  7.24779047e+00,\n",
       "        5.45582484e+01,  6.23743286e+01,  8.32429366e+00,  2.06605425e+01,\n",
       "        2.10748217e+01, -1.09909644e+00,  1.59730069e+01,  7.41654696e+01,\n",
       "        3.96300137e+01,  4.51349743e+01, -2.22423804e+01,  3.43577564e+01,\n",
       "        4.41262784e+01,  1.49977632e+01,  1.36385142e+01, -2.89674809e+01,\n",
       "        2.06620775e+01,  1.89455501e+01,  5.56327975e+01,  3.10005314e+01,\n",
       "        1.74983427e+00, -2.70644776e-01,  6.37515832e+01,  2.95917349e+01,\n",
       "       -6.94711565e+00,  1.18746345e+01, -1.76986605e+01, -1.90984945e+02,\n",
       "       -1.92615047e+02, -9.03971974e+01, -8.81901929e+01, -1.97841906e+02,\n",
       "       -3.26616185e+02, -1.86897718e+02, -2.32873646e+02, -2.00313279e+02])"
      ]
     },
     "execution_count": 202,
     "metadata": {},
     "output_type": "execute_result"
    }
   ],
   "source": [
    "residuals = net_worths - pred\n",
    "residuals"
   ]
  },
  {
   "cell_type": "code",
   "execution_count": 203,
   "metadata": {},
   "outputs": [
    {
     "data": {
      "text/plain": [
       "74.165469627236"
      ]
     },
     "execution_count": 203,
     "metadata": {},
     "output_type": "execute_result"
    }
   ],
   "source": [
    "residuals.max()"
   ]
  },
  {
   "cell_type": "code",
   "execution_count": 204,
   "metadata": {},
   "outputs": [
    {
     "data": {
      "text/plain": [
       "array([3.90674035e+01, 2.17540144e+00, 2.47570694e+01, 4.02250932e+01,\n",
       "       2.85276580e+01, 2.64891838e+01, 7.29501921e+01, 1.79773817e+01,\n",
       "       9.54961989e+00, 1.14410855e+01, 4.96142240e-01, 1.37021176e+01,\n",
       "       5.42913002e+00, 2.95205101e+01, 5.36523626e+00, 1.38097647e+01,\n",
       "       1.04921263e+01, 3.33792645e+01, 1.91278491e+01, 2.86755907e+01,\n",
       "       6.66013060e+01, 2.76757982e+01, 1.62120666e+01, 2.17886715e+01,\n",
       "       3.35364851e+01, 1.70799543e+01, 1.93717831e+01, 1.11620488e+01,\n",
       "       2.62949581e+01, 2.12604428e+01, 2.52541984e+01, 7.02562892e+01,\n",
       "       2.37661695e+01, 2.32699210e+01, 3.33512033e+01, 6.38642279e-01,\n",
       "       4.24850038e+01, 1.10796834e+01, 1.27634122e+01, 3.00121413e+01,\n",
       "       4.69606558e+01, 5.03665149e+00, 7.45153045e+00, 6.80062602e+00,\n",
       "       2.69417527e+01, 4.63238807e+00, 5.56468700e+00, 3.29457432e+01,\n",
       "       3.60054862e+01, 1.93798993e+01, 2.33819844e+01, 1.04344921e+00,\n",
       "       1.73514135e+00, 5.56382641e+01, 4.97531108e+01, 4.67393215e+01,\n",
       "       1.00780582e+01, 2.70264780e+01, 1.33315609e+01, 3.64112076e+01,\n",
       "       3.58600561e+01, 2.54199409e+01, 2.92881580e+00, 7.24779047e+00,\n",
       "       5.45582484e+01, 6.23743286e+01, 8.32429366e+00, 2.06605425e+01,\n",
       "       2.10748217e+01, 1.09909644e+00, 1.59730069e+01, 7.41654696e+01,\n",
       "       3.96300137e+01, 4.51349743e+01, 2.22423804e+01, 3.43577564e+01,\n",
       "       4.41262784e+01, 1.49977632e+01, 1.36385142e+01, 2.89674809e+01,\n",
       "       2.06620775e+01, 1.89455501e+01, 5.56327975e+01, 3.10005314e+01,\n",
       "       1.74983427e+00, 2.70644776e-01, 6.37515832e+01, 2.95917349e+01,\n",
       "       6.94711565e+00, 1.18746345e+01, 1.76986605e+01, 1.90984945e+02,\n",
       "       1.92615047e+02, 9.03971974e+01, 8.81901929e+01, 1.97841906e+02,\n",
       "       3.26616185e+02, 1.86897718e+02, 2.32873646e+02, 2.00313279e+02])"
      ]
     },
     "execution_count": 204,
     "metadata": {},
     "output_type": "execute_result"
    }
   ],
   "source": [
    "import numpy as np\n",
    "\n",
    "resid = np.abs(residuals)\n",
    "resid"
   ]
  },
  {
   "cell_type": "code",
   "execution_count": 205,
   "metadata": {},
   "outputs": [
    {
     "data": {
      "text/plain": [
       "0.2706447756530679"
      ]
     },
     "execution_count": 205,
     "metadata": {},
     "output_type": "execute_result"
    }
   ],
   "source": [
    "resid.min()"
   ]
  },
  {
   "cell_type": "code",
   "execution_count": 206,
   "metadata": {},
   "outputs": [
    {
     "data": {
      "text/plain": [
       "10"
      ]
     },
     "execution_count": 206,
     "metadata": {},
     "output_type": "execute_result"
    }
   ],
   "source": [
    "c=0\n",
    "l=[]\n",
    "for i in range(0,len(resid)):\n",
    "    \n",
    "    if  resid[i] >74 :\n",
    "        c = c + 1\n",
    "        l.append(i)\n",
    "        \n",
    "c"
   ]
  },
  {
   "cell_type": "code",
   "execution_count": 207,
   "metadata": {},
   "outputs": [
    {
     "data": {
      "text/plain": [
       "[71, 91, 92, 93, 94, 95, 96, 97, 98, 99]"
      ]
     },
     "execution_count": 207,
     "metadata": {},
     "output_type": "execute_result"
    }
   ],
   "source": [
    "l"
   ]
  },
  {
   "cell_type": "code",
   "execution_count": 208,
   "metadata": {},
   "outputs": [
    {
     "data": {
      "text/plain": [
       "[71, 91, 92, 93, 94, 95, 96, 97, 98, 99]"
      ]
     },
     "execution_count": 208,
     "metadata": {},
     "output_type": "execute_result"
    }
   ],
   "source": [
    "l"
   ]
  },
  {
   "cell_type": "code",
   "execution_count": 209,
   "metadata": {},
   "outputs": [],
   "source": [
    "ages_train_new=[]\n",
    "net_worths_train=[]\n",
    "\n",
    "for i in range(0,len(ages)):\n",
    "    if not i in l:\n",
    "        ages_train_new.append([ages[i]])\n",
    "        net_worths_train.append(net_worths[i])\n",
    "        "
   ]
  },
  {
   "cell_type": "code",
   "execution_count": 210,
   "metadata": {},
   "outputs": [
    {
     "data": {
      "text/plain": [
       "90"
      ]
     },
     "execution_count": 210,
     "metadata": {},
     "output_type": "execute_result"
    }
   ],
   "source": [
    "len(ages_train_new)"
   ]
  },
  {
   "cell_type": "code",
   "execution_count": 211,
   "metadata": {},
   "outputs": [],
   "source": [
    "ages_train_new2 = [ [ages[i]] for i in range(0,len(ages))   ]"
   ]
  },
  {
   "cell_type": "code",
   "execution_count": 212,
   "metadata": {},
   "outputs": [],
   "source": [
    "clf.fit(ages_train_new,net_worths_train)\n",
    "pred = clf.predict(ages_train_new)"
   ]
  },
  {
   "cell_type": "code",
   "execution_count": 213,
   "metadata": {},
   "outputs": [
    {
     "data": {
      "text/plain": [
       "array([6.36612435])"
      ]
     },
     "execution_count": 213,
     "metadata": {},
     "output_type": "execute_result"
    }
   ],
   "source": [
    "clf.coef_"
   ]
  },
  {
   "cell_type": "code",
   "execution_count": 214,
   "metadata": {},
   "outputs": [
    {
     "data": {
      "image/png": "[encoded data removed]",
      "text/plain": [
       "<Figure size 432x288 with 1 Axes>"
      ]
     },
     "metadata": {
      "needs_background": "light"
     },
     "output_type": "display_data"
    }
   ],
   "source": [
    "plt.scatter(ages_train_new,net_worths_train)\n",
    "plt.xlabel(\"ages\")\n",
    "plt.ylabel(\"net worths\")\n",
    "#plt.legend()\n",
    "plt.show()"
   ]
  },
  {
   "cell_type": "code",
   "execution_count": 215,
   "metadata": {},
   "outputs": [],
   "source": [
    "resids=net_worths_train - pred"
   ]
  },
  {
   "cell_type": "code",
   "execution_count": 216,
   "metadata": {},
   "outputs": [
    {
     "data": {
      "text/plain": [
       "90"
      ]
     },
     "execution_count": 216,
     "metadata": {},
     "output_type": "execute_result"
    }
   ],
   "source": [
    "len(resids)"
   ]
  },
  {
   "cell_type": "code",
   "execution_count": 217,
   "metadata": {},
   "outputs": [
    {
     "data": {
      "text/plain": [
       "38.187567579561176"
      ]
     },
     "execution_count": 217,
     "metadata": {},
     "output_type": "execute_result"
    }
   ],
   "source": [
    "resids.max()"
   ]
  },
  {
   "cell_type": "code",
   "execution_count": 218,
   "metadata": {},
   "outputs": [
    {
     "data": {
      "text/plain": [
       "90"
      ]
     },
     "execution_count": 218,
     "metadata": {},
     "output_type": "execute_result"
    }
   ],
   "source": [
    "len(resids)"
   ]
  },
  {
   "cell_type": "code",
   "execution_count": 219,
   "metadata": {},
   "outputs": [],
   "source": [
    "r_new = np.abs(resids)"
   ]
  },
  {
   "cell_type": "code",
   "execution_count": 220,
   "metadata": {},
   "outputs": [
    {
     "data": {
      "text/plain": [
       "90"
      ]
     },
     "execution_count": 220,
     "metadata": {},
     "output_type": "execute_result"
    }
   ],
   "source": [
    "len(r_new)"
   ]
  },
  {
   "cell_type": "code",
   "execution_count": 221,
   "metadata": {},
   "outputs": [
    {
     "data": {
      "text/plain": [
       "10"
      ]
     },
     "execution_count": 221,
     "metadata": {},
     "output_type": "execute_result"
    }
   ],
   "source": [
    "c=0\n",
    "l=[]\n",
    "for i in range(0,len(r_new)):\n",
    "    \n",
    "    if  r_new[i] >31.6 :\n",
    "        c = c + 1\n",
    "        l.append(i)\n",
    "        \n",
    "c"
   ]
  },
  {
   "cell_type": "code",
   "execution_count": 222,
   "metadata": {},
   "outputs": [
    {
     "data": {
      "text/plain": [
       "[3, 6, 13, 14, 31, 37, 49, 72, 73, 78]"
      ]
     },
     "execution_count": 222,
     "metadata": {},
     "output_type": "execute_result"
    }
   ],
   "source": [
    "l"
   ]
  },
  {
   "cell_type": "code",
   "execution_count": 223,
   "metadata": {},
   "outputs": [
    {
     "data": {
      "text/plain": [
       "90"
      ]
     },
     "execution_count": 223,
     "metadata": {},
     "output_type": "execute_result"
    }
   ],
   "source": [
    "len(ages_train_new)"
   ]
  },
  {
   "cell_type": "code",
   "execution_count": 224,
   "metadata": {},
   "outputs": [],
   "source": [
    "ages_train_new2=[]\n",
    "net_worths_train2=[]\n",
    "\n",
    "for i in range(0,len(ages_train_new)):\n",
    "    if not i in l:\n",
    "        ages_train_new2.append(ages_train_new[i])\n",
    "        net_worths_train2.append(net_worths_train[i])"
   ]
  },
  {
   "cell_type": "code",
   "execution_count": 231,
   "metadata": {},
   "outputs": [
    {
     "data": {
      "text/plain": [
       "80"
      ]
     },
     "execution_count": 231,
     "metadata": {},
     "output_type": "execute_result"
    }
   ],
   "source": [
    "len(net_worths_train2)"
   ]
  },
  {
   "cell_type": "code",
   "execution_count": 238,
   "metadata": {},
   "outputs": [],
   "source": [
    "clf.fit(ages_train_new2,net_worths_train2)\n",
    "pred2 = clf.predict(ages_train_new2)"
   ]
  },
  {
   "cell_type": "code",
   "execution_count": 239,
   "metadata": {},
   "outputs": [
    {
     "data": {
      "text/plain": [
       "80"
      ]
     },
     "execution_count": 239,
     "metadata": {},
     "output_type": "execute_result"
    }
   ],
   "source": [
    "len(pred2)"
   ]
  },
  {
   "cell_type": "code",
   "execution_count": 240,
   "metadata": {},
   "outputs": [
    {
     "data": {
      "image/png": "[encoded data removed]",
      "text/plain": [
       "<Figure size 432x288 with 1 Axes>"
      ]
     },
     "metadata": {
      "needs_background": "light"
     },
     "output_type": "display_data"
    }
   ],
   "source": [
    "plt.scatter(ages_train_new2,net_worths_train2)\n",
    "plt.xlabel(\"ages\")\n",
    "plt.ylabel(\"net worths\")\n",
    "#plt.legend()\n",
    "plt.show()"
   ]
  },
  {
   "cell_type": "code",
   "execution_count": 242,
   "metadata": {},
   "outputs": [
    {
     "data": {
      "text/plain": [
       "array([6.33930298])"
      ]
     },
     "execution_count": 242,
     "metadata": {},
     "output_type": "execute_result"
    }
   ],
   "source": [
    "clf.coef_"
   ]
  },
  {
   "cell_type": "code",
   "execution_count": 244,
   "metadata": {},
   "outputs": [],
   "source": [
    "r2= net_worths_train2 -pred2"
   ]
  },
  {
   "cell_type": "code",
   "execution_count": 246,
   "metadata": {},
   "outputs": [
    {
     "data": {
      "text/plain": [
       "80"
      ]
     },
     "execution_count": 246,
     "metadata": {},
     "output_type": "execute_result"
    }
   ],
   "source": [
    "r2_n = np.abs(r2)\n",
    "len(r2_n)"
   ]
  },
  {
   "cell_type": "code",
   "execution_count": 256,
   "metadata": {},
   "outputs": [
    {
     "data": {
      "text/plain": [
       "10"
      ]
     },
     "execution_count": 256,
     "metadata": {},
     "output_type": "execute_result"
    }
   ],
   "source": [
    "c=0\n",
    "l=[]\n",
    "for i in range(0,len(r2_n)):\n",
    "    \n",
    "    if  r2_n[i] >23.3 :\n",
    "        c = c + 1\n",
    "        l.append(i)\n",
    "        \n",
    "c"
   ]
  },
  {
   "cell_type": "code",
   "execution_count": 257,
   "metadata": {},
   "outputs": [
    {
     "data": {
      "text/plain": [
       "[15, 16, 19, 32, 38, 41, 56, 58, 60, 71]"
      ]
     },
     "execution_count": 257,
     "metadata": {},
     "output_type": "execute_result"
    }
   ],
   "source": [
    "l"
   ]
  },
  {
   "cell_type": "code",
   "execution_count": 258,
   "metadata": {},
   "outputs": [],
   "source": [
    "ages_train_new3=[]\n",
    "net_worths_train3=[]\n",
    "\n",
    "for i in range(0,len(ages_train_new2)):\n",
    "    if not i in l:\n",
    "        ages_train_new3.append(ages_train_new2[i])\n",
    "        net_worths_train3.append(net_worths_train2[i])"
   ]
  },
  {
   "cell_type": "code",
   "execution_count": 259,
   "metadata": {},
   "outputs": [
    {
     "data": {
      "text/plain": [
       "70"
      ]
     },
     "execution_count": 259,
     "metadata": {},
     "output_type": "execute_result"
    }
   ],
   "source": [
    "len(ages_train_new3)"
   ]
  },
  {
   "cell_type": "code",
   "execution_count": 260,
   "metadata": {},
   "outputs": [],
   "source": [
    "clf.fit(ages_train_new3,net_worths_train3)\n",
    "pred2 = clf.predict(ages_train_new3)"
   ]
  },
  {
   "cell_type": "code",
   "execution_count": 261,
   "metadata": {},
   "outputs": [
    {
     "data": {
      "text/plain": [
       "array([6.25870168])"
      ]
     },
     "execution_count": 261,
     "metadata": {},
     "output_type": "execute_result"
    }
   ],
   "source": [
    "clf.coef_"
   ]
  },
  {
   "cell_type": "code",
   "execution_count": 262,
   "metadata": {},
   "outputs": [
    {
     "data": {
      "image/png": "[encoded data removed]",
      "text/plain": [
       "<Figure size 432x288 with 1 Axes>"
      ]
     },
     "metadata": {
      "needs_background": "light"
     },
     "output_type": "display_data"
    }
   ],
   "source": [
    "plt.scatter(ages_train_new3,net_worths_train3)\n",
    "plt.xlabel(\"ages\")\n",
    "plt.ylabel(\"net worths\")\n",
    "#plt.legend()\n",
    "plt.show()"
   ]
  },
  {
   "cell_type": "code",
   "execution_count": null,
   "metadata": {},
   "outputs": [],
   "source": [
    "# a typical outlier fucntion to remove them \n",
    "#send the training data as it is ....it must be 2 D --\n",
    "# foramt :  array  [   [f1,f2,f3....fk] , [f1,f2 ,....fk] , [f1,...fk] , .........   ]\n",
    "#and then your trarget variable which is one or 2 dimesnional doesnt matter\n",
    "\n",
    "#this fucntion was implemented with target variqable as 2 D input array\n",
    "#make necessary changes and you can use 1D input for target variable too\n",
    "\n",
    "\"\"\"\n",
    "\n",
    "def outlierCleaner(predictions, ages, net_worths):\n",
    "     #find lenght of training set and pick 10 % of it\n",
    "    _len_train = len(ages)\n",
    "    clean_points = int(_len_train/10)\n",
    "    _final_len = _len_train - clean_points\n",
    "    \n",
    "    \n",
    "    \n",
    "    #finding residuals \n",
    "    \n",
    "    residuals = net_worths - predictions\n",
    "    #residuals could be positive or negative \n",
    "    residuals_mod = np.abs(residuals)\n",
    "    #pick 10 % of maximum elements - erros from residuals_mod\n",
    "    \n",
    "    residuals_temp =  [ residuals_mod[i][j] for i in range(0,len(residuals_mod))  for j in range(0,len(residuals_mod[0]))]\n",
    "    residuals_sorted = np.sort(residuals_temp)\n",
    "    print(\"size are ::: \"+str(len(resid_sorted)) + \" and \" + str(_final_len)) \n",
    "    max_errors = resid_sorted[_final_len:]\n",
    "    #max_Erros has top clean_pointss % points with max errors \n",
    "    \n",
    "    #we need to figure out those position points in the residuals_mod\n",
    "    L =[]\n",
    "    print(\"max erros:::: \"+ str(max_errors))\n",
    "    for i in range(0,len(residuals_mod)):\n",
    "        if residuals_mod[i][0] in max_errors:\n",
    "            L.append(i)\n",
    "            \n",
    "    print(\"List of values is ::::\"+ str(L))\n",
    "    print(\"lenght :::\"+str(len(ages)))\n",
    "    #list L has all the posiitons of the useless points \n",
    "    #lets remove them\n",
    "    \n",
    "    ages_train_new = [ [ages[i][0]] for i in range(0,len(ages)) if i not in L]\n",
    "    net_worths_train_new = [ [net_worths_train[i][0] ] for i  in range(0,len(ages)) if i not in L ]\n",
    "    \n",
    "    cleaned_data = [ ages_train_new , net_worths_train_new]\n",
    "    \n",
    "\n",
    "    \n",
    "    return cleaned_data\n",
    "\n",
    "\n",
    "\n",
    "\n",
    "\"\"\""
   ]
  },
  {
   "cell_type": "code",
   "execution_count": null,
   "metadata": {},
   "outputs": [],
   "source": []
  }
 ],
 "metadata": {
  "kernelspec": {
   "display_name": "Python 3",
   "language": "python",
   "name": "python3"
  },
  "language_info": {
   "codemirror_mode": {
    "name": "ipython",
    "version": 3
   },
   "file_extension": ".py",
   "mimetype": "text/x-python",
   "name": "python",
   "nbconvert_exporter": "python",
   "pygments_lexer": "ipython3",
   "version": "3.7.0"
  }
 },
 "nbformat": 4,
 "nbformat_minor": 2
}
