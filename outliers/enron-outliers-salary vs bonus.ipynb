{
 "cells": [
  {
   "cell_type": "code",
   "execution_count": 11,
   "metadata": {},
   "outputs": [
    {
     "data": {
      "image/png": "[encoded data removed]",
      "text/plain": [
       "<Figure size 432x288 with 1 Axes>"
      ]
     },
     "metadata": {
      "needs_background": "light"
     },
     "output_type": "display_data"
    }
   ],
   "source": [
    "#!/usr/bin/python\n",
    "\n",
    "import pickle\n",
    "import sys\n",
    "import matplotlib.pyplot as plt\n",
    "sys.path.append(\"../tools/\")\n",
    "from feature_format import featureFormat, targetFeatureSplit\n",
    "\n",
    "\n",
    "### read in data dictionary, convert to numpy array\n",
    "data_dict = pickle.load( open(\"../final_project/final_project_dataset.pkl\", \"rb\") )\n",
    "features = [\"salary\", \"bonus\"]\n",
    "data = featureFormat(data_dict, features)\n",
    "outlier_salary=0\n",
    "outlier_point=0\n",
    "i=0\n",
    "for point in data:\n",
    "    salary=point[0]\n",
    "    bonus = point[1]\n",
    "    plt.scatter(salary,bonus)\n",
    "    if salary > 25000000:\n",
    "        outlier_salary = salary\n",
    "        outlier_point=point\n",
    "    i = i+1\n",
    "    \n",
    "plt.show()\n"
   ]
  },
  {
   "cell_type": "code",
   "execution_count": 12,
   "metadata": {},
   "outputs": [
    {
     "data": {
      "text/plain": [
       "array([26704229., 97343619.])"
      ]
     },
     "execution_count": 12,
     "metadata": {},
     "output_type": "execute_result"
    }
   ],
   "source": [
    "outlier_point"
   ]
  },
  {
   "cell_type": "code",
   "execution_count": 13,
   "metadata": {},
   "outputs": [
    {
     "data": {
      "text/plain": [
       "95"
      ]
     },
     "execution_count": 13,
     "metadata": {},
     "output_type": "execute_result"
    }
   ],
   "source": [
    "i"
   ]
  },
  {
   "cell_type": "code",
   "execution_count": 6,
   "metadata": {},
   "outputs": [
    {
     "data": {
      "text/plain": [
       "array([[3.6578800e+05, 6.0000000e+05],\n",
       "       [2.6710200e+05, 1.2000000e+06],\n",
       "       [1.7094100e+05, 3.5000000e+05],\n",
       "       [2.4329300e+05, 1.5000000e+06],\n",
       "       [2.6709300e+05, 3.2500000e+05],\n",
       "       [3.7044800e+05, 2.6000000e+06],\n",
       "       [3.7412500e+05, 1.1500000e+06],\n",
       "       [1.9709100e+05, 4.0000000e+05],\n",
       "       [1.3072400e+05, 0.0000000e+00],\n",
       "       [2.4854600e+05, 8.5000000e+05],\n",
       "       [2.5748600e+05, 7.0000000e+05],\n",
       "       [2.8854200e+05, 1.2000000e+06],\n",
       "       [2.5165400e+05, 1.1000000e+06],\n",
       "       [2.8855800e+05, 2.5000000e+05],\n",
       "       [6.3744000e+04, 0.0000000e+00],\n",
       "       [3.5709100e+05, 8.5000000e+05],\n",
       "       [2.7144200e+05, 3.1000000e+06],\n",
       "       [3.0411000e+05, 2.0000000e+06],\n",
       "       [1.8792200e+05, 2.5000000e+05],\n",
       "       [2.1362500e+05, 1.0000000e+06],\n",
       "       [2.4920100e+05, 7.0000000e+05],\n",
       "       [2.3133000e+05, 7.0000000e+05],\n",
       "       [1.8224500e+05, 2.0000000e+05],\n",
       "       [2.1178800e+05, 1.7000000e+06],\n",
       "       [2.2430500e+05, 8.0000000e+05],\n",
       "       [2.7374600e+05, 1.0000000e+06],\n",
       "       [3.3928800e+05, 8.0000000e+06],\n",
       "       [2.1658200e+05, 0.0000000e+00],\n",
       "       [2.1050000e+05, 4.2500000e+05],\n",
       "       [2.7288000e+05, 7.5000000e+05],\n",
       "       [4.7700000e+02, 0.0000000e+00],\n",
       "       [2.6907600e+05, 6.5000000e+05],\n",
       "       [4.2878000e+05, 1.5000000e+06],\n",
       "       [2.1184400e+05, 2.0000000e+05],\n",
       "       [2.0612100e+05, 6.0000000e+05],\n",
       "       [1.7424600e+05, 0.0000000e+00],\n",
       "       [5.1036400e+05, 3.0000000e+06],\n",
       "       [3.6503800e+05, 1.1000000e+06],\n",
       "       [3.6516300e+05, 3.0000000e+06],\n",
       "       [1.6277900e+05, 1.0000000e+05],\n",
       "       [2.3645700e+05, 2.0000000e+05],\n",
       "       [1.0723210e+06, 7.0000000e+06],\n",
       "       [2.6151600e+05, 7.5000000e+05],\n",
       "       [3.2907800e+05, 7.5000000e+05],\n",
       "       [1.8489900e+05, 3.2500000e+05],\n",
       "       [1.9200800e+05, 5.0987000e+05],\n",
       "       [2.6266300e+05, 7.0000000e+05],\n",
       "       [3.0458800e+05, 2.5000000e+06],\n",
       "       [2.7860100e+05, 1.3500000e+06],\n",
       "       [1.9915700e+05, 3.5000000e+05],\n",
       "       [9.6840000e+04, 0.0000000e+00],\n",
       "       [8.0818000e+04, 0.0000000e+00],\n",
       "       [2.1399900e+05, 5.2499990e+06],\n",
       "       [2.6278800e+05, 1.0000000e+06],\n",
       "       [2.1069200e+05, 7.5000000e+05],\n",
       "       [2.2209300e+05, 0.0000000e+00],\n",
       "       [4.4069800e+05, 1.3000000e+06],\n",
       "       [2.4018900e+05, 1.2500000e+06],\n",
       "       [4.2063600e+05, 1.7500000e+06],\n",
       "       [2.7510100e+05, 4.0000000e+05],\n",
       "       [3.1428800e+05, 8.0000000e+05],\n",
       "       [9.4941000e+04, 0.0000000e+00],\n",
       "       [2.3950200e+05, 5.0000000e+05],\n",
       "       [1.1112580e+06, 5.6000000e+06],\n",
       "       [6.6150000e+03, 0.0000000e+00],\n",
       "       [2.8858900e+05, 7.8875000e+05],\n",
       "       [4.0433800e+05, 1.0000000e+06],\n",
       "       [2.6704229e+07, 9.7343619e+07],\n",
       "       [2.5999600e+05, 3.2500000e+05],\n",
       "       [3.1754300e+05, 4.5000000e+05],\n",
       "       [2.0195500e+05, 4.1750000e+06],\n",
       "       [2.4814600e+05, 6.0000000e+05],\n",
       "       [2.6341300e+05, 9.0000000e+05],\n",
       "       [7.6399000e+04, 1.0000000e+05],\n",
       "       [6.5503700e+05, 3.0000000e+05],\n",
       "       [2.6180900e+05, 3.0000000e+05],\n",
       "       [2.4801700e+05, 5.0000000e+05],\n",
       "       [2.2928400e+05, 4.0000000e+05],\n",
       "       [2.3194600e+05, 8.5000000e+05],\n",
       "       [2.2100300e+05, 7.0000000e+04],\n",
       "       [1.5840300e+05, 0.0000000e+00],\n",
       "       [2.5010000e+05, 6.0000000e+05],\n",
       "       [4.9237500e+05, 8.0000000e+05],\n",
       "       [1.0609320e+06, 2.0000000e+06],\n",
       "       [2.6187900e+05, 1.0000000e+06],\n",
       "       [2.3967100e+05, 4.0000000e+05],\n",
       "       [3.0994600e+05, 7.0000000e+05],\n",
       "       [8.5274000e+04, 0.0000000e+00],\n",
       "       [2.4733800e+05, 3.0000000e+05],\n",
       "       [3.4948700e+05, 0.0000000e+00],\n",
       "       [3.3054600e+05, 9.0000000e+05],\n",
       "       [4.1518900e+05, 1.0000000e+06],\n",
       "       [2.6521400e+05, 6.0000000e+05],\n",
       "       [2.7860100e+05, 8.0000000e+05],\n",
       "       [2.7497500e+05, 6.0000000e+05]])"
      ]
     },
     "execution_count": 6,
     "metadata": {},
     "output_type": "execute_result"
    }
   ],
   "source": [
    "c =0 \n",
    "for i in range()\n"
   ]
  },
  {
   "cell_type": "code",
   "execution_count": 46,
   "metadata": {},
   "outputs": [
    {
     "data": {
      "text/plain": [
       "'TOTAL'"
      ]
     },
     "execution_count": 46,
     "metadata": {},
     "output_type": "execute_result"
    }
   ],
   "source": [
    "\n",
    "i=0\n",
    "\n",
    "for key in data_dict.keys():\n",
    "    if data_dict[key]['salary'] !='NaN':\n",
    "        if int(data_dict[key]['salary'])  > 25000000:\n",
    "            name=key\n",
    "            break\n",
    "    i = i +1    \n",
    "name       \n",
    "\n",
    "        \n",
    "    "
   ]
  },
  {
   "cell_type": "code",
   "execution_count": 50,
   "metadata": {},
   "outputs": [],
   "source": [
    "i=0\n",
    "for key in data_dict.keys():\n",
    "    if i ==102:\n",
    "        name = key\n",
    "    i=i+1\n",
    "    "
   ]
  },
  {
   "cell_type": "code",
   "execution_count": 52,
   "metadata": {},
   "outputs": [
    {
     "data": {
      "text/plain": [
       "{'salary': 26704229,\n",
       " 'to_messages': 'NaN',\n",
       " 'deferral_payments': 32083396,\n",
       " 'total_payments': 309886585,\n",
       " 'loan_advances': 83925000,\n",
       " 'bonus': 97343619,\n",
       " 'email_address': 'NaN',\n",
       " 'restricted_stock_deferred': -7576788,\n",
       " 'deferred_income': -27992891,\n",
       " 'total_stock_value': 434509511,\n",
       " 'expenses': 5235198,\n",
       " 'from_poi_to_this_person': 'NaN',\n",
       " 'exercised_stock_options': 311764000,\n",
       " 'from_messages': 'NaN',\n",
       " 'other': 42667589,\n",
       " 'from_this_person_to_poi': 'NaN',\n",
       " 'poi': False,\n",
       " 'long_term_incentive': 48521928,\n",
       " 'shared_receipt_with_poi': 'NaN',\n",
       " 'restricted_stock': 130322299,\n",
       " 'director_fees': 1398517}"
      ]
     },
     "execution_count": 52,
     "metadata": {},
     "output_type": "execute_result"
    }
   ],
   "source": [
    "data_dict.pop(\"TOTAL\",0)"
   ]
  },
  {
   "cell_type": "code",
   "execution_count": 53,
   "metadata": {},
   "outputs": [
    {
     "data": {
      "image/png": "[encoded data removed]",
      "text/plain": [
       "<Figure size 432x288 with 1 Axes>"
      ]
     },
     "metadata": {
      "needs_background": "light"
     },
     "output_type": "display_data"
    }
   ],
   "source": [
    "data = featureFormat(data_dict, features)\n",
    "outlier_salary=0\n",
    "outlier_point=0\n",
    "i=0\n",
    "for point in data:\n",
    "    salary=point[0]\n",
    "    bonus = point[1]\n",
    "    plt.scatter(salary,bonus)\n",
    "    if salary > 25000000:\n",
    "        outlier_salary = salary\n",
    "        outlier_point=point\n",
    "    i = i+1\n",
    "    \n",
    "plt.show()\n"
   ]
  },
  {
   "cell_type": "code",
   "execution_count": 54,
   "metadata": {},
   "outputs": [
    {
     "data": {
      "text/plain": [
       "['LAY KENNETH L', 'SKILLING JEFFREY K']"
      ]
     },
     "execution_count": 54,
     "metadata": {},
     "output_type": "execute_result"
    }
   ],
   "source": [
    "i=0\n",
    "name =[]\n",
    "for key in data_dict.keys():\n",
    "    if data_dict[key]['salary'] !='NaN' and data_dict[key]['bonus'] !='NaN' :\n",
    "        if int(data_dict[key]['salary'])  > 1000000 and int(data_dict[key]['bonus']) > 5000000 :\n",
    "            name.append(key)\n",
    "        \n",
    "        \n",
    "name       \n"
   ]
  },
  {
   "cell_type": "code",
   "execution_count": null,
   "metadata": {},
   "outputs": [],
   "source": []
  }
 ],
 "metadata": {
  "kernelspec": {
   "display_name": "Python 3",
   "language": "python",
   "name": "python3"
  },
  "language_info": {
   "codemirror_mode": {
    "name": "ipython",
    "version": 3
   },
   "file_extension": ".py",
   "mimetype": "text/x-python",
   "name": "python",
   "nbconvert_exporter": "python",
   "pygments_lexer": "ipython3",
   "version": "3.7.0"
  }
 },
 "nbformat": 4,
 "nbformat_minor": 2
}
